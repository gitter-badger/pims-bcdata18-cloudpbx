{
 "cells": [
  {
   "cell_type": "markdown",
   "metadata": {},
   "source": [
    "# Geolite DEMO\n",
    "\n",
    "## Installation\n",
    "`pip install geoip2`"
   ]
  },
  {
   "cell_type": "code",
   "execution_count": 1,
   "metadata": {},
   "outputs": [],
   "source": [
    "import pandas as pd\n",
    "import os\n",
    "import geoip2.database"
   ]
  },
  {
   "cell_type": "code",
   "execution_count": 2,
   "metadata": {},
   "outputs": [],
   "source": [
    "DATA_ROOT = '../data'\n",
    "CSV_FILE_PATH = os.path.join(DATA_ROOT,'127.0.0.1-2018-05-2018-3-58 PM- voipmonitor-cdr.csv')\n",
    "GEOLITE_DB_PATH = os.path.join(DATA_ROOT,'GeoLite2-City.mmdb')"
   ]
  },
  {
   "cell_type": "code",
   "execution_count": 3,
   "metadata": {},
   "outputs": [],
   "source": [
    "DESCRIBED_COLUMNS = [\"calldate\", \"callend\", \"duration\", \"connect_duration\", \"progress_time\", \n",
    "                     \"first_rtp_time\", \"caller\", \"caller_domain\", \"caller_reverse\", \"callername\", \n",
    "                     \"callername_reverse\", \"called\", \"called_domain\", \"called_reverse\", \"sipcallerip\", \n",
    "                     \"sipcallerport\", \"sipcalledip\", \"sipcalledport\", \"whohanged\", \"lastSIPresponse_id\", \n",
    "                     \"dscp\", \"a_payload\", \"b_payload\", \"a_saddr\", \"b_saddr\", \"a_received\", \"b_received\", \n",
    "                     \"a_lost\", \"b_lost\", \"a_ua_id\", \"b_ua_id\", \"a_avgjitter_mult10\", \"b_avgjitter_mult10\",\n",
    "                     \"a_maxjitter\", \"b_maxjitter\", \"a_sl1\", \"a_sl2\", \"a_sl3\", \"a_sl4\", \"a_sl5\", \"a_sl6\", \n",
    "                     \"a_sl7\", \"a_sl8\", \"a_sl9\", \"a_sl10\", \"a_d50\", \"a_d70\", \"a_d90\", \"a_d120\", \"a_d150\", \n",
    "                     \"a_d200\", \"a_d300\", \"b_sl1\", \"b_sl2\", \"b_sl3\", \"b_sl4\", \"b_sl5\", \"b_sl6\", \"b_sl7\", \n",
    "                     \"b_sl8\", \"b_sl9\", \"b_sl10\", \"b_d50\", \"b_d70\", \"b_d90\", \"b_d120\", \"b_d150\", \"b_d200\", \n",
    "                     \"b_d300\", \"a_mos_f1_mult10\", \"a_mos_f2_mult10\", \"a_mos_adapt_mult10\", \n",
    "                     \"b_mos_f1_mult10\", \"b_mos_f2_mult10\", \"b_mos_adapt_mult10\", \"a_rtcp_loss\", \n",
    "                     \"a_rtcp_maxfr\", \"a_rtcp_avgfr_mult10\", \"a_rtcp_maxjitter\", \"a_rtcp_avgjitter_mult10\", \n",
    "                     \"b_rtcp_loss\", \"b_rtcp_maxfr\", \"b_rtcp_avgfr_mult10\", \"b_rtcp_maxjitter\", \n",
    "                     \"b_rtcp_avgjitter_mult10\", \"packet_loss_perc_mult1000\", \"a_packet_loss_perc_mult1000\", \n",
    "                     \"b_packet_loss_perc_mult1000\", \"delay_sum\", \"a_delay_sum\", \"b_delay_sum\", \n",
    "                     \"a_rtp_ptime\", \"b_rtp_ptime\"]"
   ]
  },
  {
   "cell_type": "code",
   "execution_count": 4,
   "metadata": {},
   "outputs": [],
   "source": [
    "# read dataframe. calldate and callend are the only date columns\n",
    "df = pd.read_csv(CSV_FILE_PATH, parse_dates=['calldate', 'callend'])\n",
    "df = df[DESCRIBED_COLUMNS]\n",
    "# remo`ve any columns that are entirely NA.\n",
    "df.dropna(axis=1, how='all', inplace=True)\n",
    "# some columns have \"sanitized\" written the whole way down:\n",
    "#    remove these.\n",
    "df = df.loc[:, ~(df == 'sanitized').all(axis=0)]\n",
    "# ## sighup was removed by the DESCRIBED_COLUMNS subsetting\n",
    "# XX sighup column is entirely zeros. remove it. \n",
    "# XX df.drop(columns=['sighup'], inplace=True) \n",
    "# create a version of duration column of type timedelta\n",
    "df.drop(columns=[col for col in df.columns if 'reverse' in col], inplace=True)\n",
    "df['duration_td'] = df.callend - df.calldate\n",
    "\n",
    "# a dataframe where the rows have been removed if \n",
    "# there are more than 60% NA values in those rows.\n",
    "df_dens = df.dropna(axis=0, thresh = 79)"
   ]
  },
  {
   "cell_type": "code",
   "execution_count": 5,
   "metadata": {},
   "outputs": [],
   "source": [
    "# initiate geoip client\n",
    "reader = geoip2.database.Reader(GEOLITE_DB_PATH)"
   ]
  },
  {
   "cell_type": "markdown",
   "metadata": {},
   "source": [
    "### Grab the one row of the data set and get geographical information of the IP"
   ]
  },
  {
   "cell_type": "code",
   "execution_count": 6,
   "metadata": {},
   "outputs": [
    {
     "data": {
      "text/plain": [
       "Index(['calldate', 'callend', 'duration', 'connect_duration', 'progress_time',\n",
       "       'first_rtp_time', 'caller', 'called', 'sipcallerip', 'sipcallerport',\n",
       "       'sipcalledip', 'sipcalledport', 'whohanged', 'lastSIPresponse_id',\n",
       "       'dscp', 'a_payload', 'b_payload', 'a_saddr', 'b_saddr', 'a_received',\n",
       "       'b_received', 'a_lost', 'b_lost', 'a_ua_id', 'b_ua_id',\n",
       "       'a_avgjitter_mult10', 'b_avgjitter_mult10', 'a_maxjitter',\n",
       "       'b_maxjitter', 'a_sl1', 'a_sl2', 'a_sl3', 'a_sl4', 'a_sl5', 'a_sl6',\n",
       "       'a_sl7', 'a_sl8', 'a_sl9', 'a_sl10', 'a_d50', 'a_d70', 'a_d90',\n",
       "       'a_d120', 'a_d150', 'a_d200', 'a_d300', 'b_sl1', 'b_sl2', 'b_sl3',\n",
       "       'b_sl4', 'b_sl5', 'b_sl6', 'b_sl7', 'b_sl8', 'b_sl9', 'b_sl10', 'b_d50',\n",
       "       'b_d70', 'b_d90', 'b_d120', 'b_d150', 'b_d200', 'b_d300',\n",
       "       'a_mos_f1_mult10', 'a_mos_f2_mult10', 'a_mos_adapt_mult10',\n",
       "       'b_mos_f1_mult10', 'b_mos_f2_mult10', 'b_mos_adapt_mult10',\n",
       "       'a_rtcp_loss', 'a_rtcp_maxfr', 'a_rtcp_avgfr_mult10',\n",
       "       'a_rtcp_maxjitter', 'a_rtcp_avgjitter_mult10', 'b_rtcp_loss',\n",
       "       'b_rtcp_maxfr', 'b_rtcp_avgfr_mult10', 'b_rtcp_maxjitter',\n",
       "       'b_rtcp_avgjitter_mult10', 'packet_loss_perc_mult1000',\n",
       "       'a_packet_loss_perc_mult1000', 'b_packet_loss_perc_mult1000',\n",
       "       'delay_sum', 'a_delay_sum', 'b_delay_sum', 'a_rtp_ptime', 'b_rtp_ptime',\n",
       "       'duration_td'],\n",
       "      dtype='object')"
      ]
     },
     "execution_count": 6,
     "metadata": {},
     "output_type": "execute_result"
    }
   ],
   "source": [
    "df.columns"
   ]
  },
  {
   "cell_type": "code",
   "execution_count": 7,
   "metadata": {},
   "outputs": [
    {
     "name": "stdout",
     "output_type": "stream",
     "text": [
      "ISO: US, name: United States, jname: Estados Unidos \n",
      "city: Easton, lat: 40.7432, lon: -75.2242\n"
     ]
    }
   ],
   "source": [
    "# sample IP from voip data\n",
    "ip = '98.159.46.83'\n",
    "response = reader.city(ip)\n",
    "\n",
    "iso = response.country.iso_code\n",
    "name = response.country.name\n",
    "jname = response.country.names['es']\n",
    "city = response.city.name\n",
    "lat = response.location.latitude\n",
    "lon = response.location.longitude\n",
    "\n",
    "print('ISO: {}, name: {}, jname: {} \\ncity: {}, lat: {}, lon: {}'\n",
    "      .format(iso, name, jname, city, lat, lon))"
   ]
  }
 ],
 "metadata": {
  "kernelspec": {
   "display_name": "Python 3",
   "language": "python",
   "name": "python3"
  },
  "language_info": {
   "codemirror_mode": {
    "name": "ipython",
    "version": 3
   },
   "file_extension": ".py",
   "mimetype": "text/x-python",
   "name": "python",
   "nbconvert_exporter": "python",
   "pygments_lexer": "ipython3",
   "version": "3.6.0"
  }
 },
 "nbformat": 4,
 "nbformat_minor": 2
}
